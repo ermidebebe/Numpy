{
 "cells": [
  {
   "cell_type": "markdown",
   "metadata": {},
   "source": [
    "## Creating  Array"
   ]
  },
  {
   "cell_type": "code",
   "execution_count": 4,
   "metadata": {
    "scrolled": true
   },
   "outputs": [
    {
     "name": "stdout",
     "output_type": "stream",
     "text": [
      "[[1 2 3 4]\n",
      " [2 3 4 5]]\n",
      "[[0. 0. 0.]\n",
      " [0. 0. 0.]]\n",
      "[ 0  1  2  3  4  5  6  7  8  9 10 11 12 13 14 15 16 17 18 19]\n",
      "[ 1  2  3  4  5  6  7  8  9 10]\n",
      "[[0.11031806 0.13623564 0.61744822]\n",
      " [0.28217115 0.87666397 0.27844362]\n",
      " [0.83741323 0.15487538 0.81356399]\n",
      " [0.33052502 0.64479822 0.67542197]]\n",
      "[[ 1.038569   -1.30852087 -0.19395457]\n",
      " [-0.2220904  -0.314203   -1.15157203]\n",
      " [-0.26887471  1.47413241 -1.67800911]\n",
      " [ 0.52655492  0.19272258 -0.54963547]]\n",
      "[[9 4 2 8]\n",
      " [7 7 8 5]\n",
      " [5 8 8 3]]\n",
      "[[100 100 100]\n",
      " [100 100 100]\n",
      " [100 100 100]\n",
      " [100 100 100]]\n",
      "[[1 0 0]\n",
      " [0 2 0]\n",
      " [0 0 3]]\n",
      "[1 2 3]\n",
      "empty\n",
      "[[                0                 0                 0]\n",
      " [                0                 0              1316]\n",
      " [14355640424071168 27584998689210368 19140642018951168]]\n",
      "[1 2 3]\n"
     ]
    }
   ],
   "source": [
    "import numpy as np\n",
    "print(np.array([[1,2,3,4],[2,3,4,5]]))\n",
    "print(np.zeros((2,3)))\n",
    "print(np.arange(20))\n",
    "print(np.linspace(1,10,10,dtype=np.int64))\n",
    "print(np.random.rand(4,3))\n",
    "print(np.random.randn(4,3))\n",
    "print(np.random.randint(2,10,(3,4)))\n",
    "y=np. full((4,3),100)\n",
    "print(y)\n",
    "y=np.diag([1,2,3],k=0)\n",
    "print (y)\n",
    "print(np.diag(y,k=0))\n",
    "print(\"empty\")\n",
    "print(np.empty((3,3),dtype=np.int64))\n",
    "\n",
    "print(np.diag(y,k=0))"
   ]
  },
  {
   "cell_type": "code",
   "execution_count": 5,
   "metadata": {},
   "outputs": [],
   "source": [
    "np.save(\"array\",np.empty((2,3)))"
   ]
  },
  {
   "cell_type": "code",
   "execution_count": 6,
   "metadata": {},
   "outputs": [
    {
     "name": "stdout",
     "output_type": "stream",
     "text": [
      "[[2.12199579e-312 2.12199579e-312 2.12199579e-312]\n",
      " [2.12199579e-312 2.12199579e-312 2.12199579e-312]]\n"
     ]
    }
   ],
   "source": [
    "y=np.load(\"array.npy\")\n",
    "print(y)"
   ]
  },
  {
   "cell_type": "markdown",
   "metadata": {},
   "source": [
    "### Deleting ,Appending and Inserting elements to ndarrays"
   ]
  },
  {
   "cell_type": "code",
   "execution_count": 7,
   "metadata": {},
   "outputs": [
    {
     "name": "stdout",
     "output_type": "stream",
     "text": [
      "[[2.12199579e-312 2.12199579e-312]\n",
      " [2.12199579e-312 2.12199579e-312]]\n"
     ]
    }
   ],
   "source": [
    "print(np.delete(y,2,axis=1)) #delete the third row from Y"
   ]
  },
  {
   "cell_type": "code",
   "execution_count": 9,
   "metadata": {},
   "outputs": [
    {
     "name": "stdout",
     "output_type": "stream",
     "text": [
      "[[2.12199579e-312 2.12199579e-312 2.12199579e-312 1.00000000e+000]\n",
      " [2.12199579e-312 2.12199579e-312 2.12199579e-312 2.00000000e+000]]\n",
      "\n",
      "\n",
      " [[2.12199579e-312 2.12199579e-312 2.12199579e-312]\n",
      " [2.12199579e-312 2.12199579e-312 2.12199579e-312]]\n"
     ]
    }
   ],
   "source": [
    "\n",
    "print(np.append(y,[[1],[2]],axis=1)) # append accepts list with the same dimension \n",
    "print('\\n\\n',y)"
   ]
  },
  {
   "cell_type": "code",
   "execution_count": 10,
   "metadata": {},
   "outputs": [
    {
     "name": "stdout",
     "output_type": "stream",
     "text": [
      "[[2.12199579e-312 2.12199579e-312 2.12199579e-312]\n",
      " [1.00000000e+000 2.00000000e+000 3.00000000e+000]\n",
      " [2.12199579e-312 2.12199579e-312 2.12199579e-312]]\n"
     ]
    }
   ],
   "source": [
    "print(np.insert(y,1,[1,2,3],axis=0)) #but insert accepts list with same number of as the row or column"
   ]
  },
  {
   "cell_type": "markdown",
   "metadata": {},
   "source": [
    "### Slicing and Reshaping "
   ]
  },
  {
   "cell_type": "code",
   "execution_count": 11,
   "metadata": {},
   "outputs": [
    {
     "name": "stdout",
     "output_type": "stream",
     "text": [
      "[1 2 3 4]\n",
      "[4 3 2 1]\n",
      "[[4 3]\n",
      " [2 1]]\n",
      "[1 2 3 4]\n"
     ]
    }
   ],
   "source": [
    "x=np.arange(1,5)\n",
    "print(x)\n",
    "print(x[::-1])\n",
    "print(x.reshape((2,2))[::-1,::-1])\n",
    "print(x)\n"
   ]
  },
  {
   "cell_type": "markdown",
   "metadata": {},
   "source": [
    "### Concatenation and splitting"
   ]
  },
  {
   "cell_type": "code",
   "execution_count": 18,
   "metadata": {},
   "outputs": [
    {
     "name": "stdout",
     "output_type": "stream",
     "text": [
      "[[3 4 5 6]\n",
      " [1 3 4 6]]\n",
      "[3 4 5 6 1 3 4 6]\n",
      "[[ 0  1  2  3  4]\n",
      " [ 5  6  7  8  9]\n",
      " [10 11 12 13 14]\n",
      " [15 16 17 18 19]]\n"
     ]
    }
   ],
   "source": [
    "x=np.array([3,4,5,6])\n",
    "y=np.array([1,3,4,6])\n",
    "print(np.concatenate([[x],[y]]))\n",
    "print(np.concatenate([x,y]))\n",
    "x=np.arange(10).reshape((2,5))\n",
    "y=np.arange(10,20).reshape((2,5))\n",
    "print(np.concatenate([x,y],axis=0))"
   ]
  },
  {
   "cell_type": "code",
   "execution_count": 19,
   "metadata": {},
   "outputs": [
    {
     "name": "stdout",
     "output_type": "stream",
     "text": [
      "[[ 0  1  2  3  4]\n",
      " [ 5  6  7  8  9]\n",
      " [10 11 12 13 14]\n",
      " [15 16 17 18 19]]\n",
      "[[ 0  1  2  3  4 10 11 12 13 14]\n",
      " [ 5  6  7  8  9 15 16 17 18 19]]\n"
     ]
    }
   ],
   "source": [
    "print(np.vstack([x,y]))\n",
    "print(np.hstack([x,y]))"
   ]
  },
  {
   "cell_type": "code",
   "execution_count": 21,
   "metadata": {},
   "outputs": [
    {
     "name": "stdout",
     "output_type": "stream",
     "text": [
      "[[ 0  1  2  3  4]\n",
      " [ 5  6  7  8  9]\n",
      " [10 11 12 13 14]\n",
      " [15 16 17 18 19]]\n",
      "[array([[0, 1, 2, 3, 4]]), array([[ 5,  6,  7,  8,  9],\n",
      "       [10, 11, 12, 13, 14]]), array([[15, 16, 17, 18, 19]])]\n"
     ]
    }
   ],
   "source": [
    "z=np.vstack([x,y])\n",
    "print(z)\n",
    "print(np.split(z,[1,3],axis=0))"
   ]
  },
  {
   "cell_type": "code",
   "execution_count": 22,
   "metadata": {},
   "outputs": [
    {
     "name": "stdout",
     "output_type": "stream",
     "text": [
      "[[ True False  True False  True]\n",
      " [False  True False  True False]\n",
      " [ True False  True False  True]\n",
      " [False  True False  True False]\n",
      " [ True False  True False  True]]\n",
      "[ 1  3  5  7  9 11 13 15 17 19 21 23 25]\n"
     ]
    }
   ],
   "source": [
    "x=np.arange(1,26).reshape([5,5])\n",
    "print(x%2!=0)\n",
    "y=x[x%2!=0]\n",
    "print(y)"
   ]
  },
  {
   "cell_type": "markdown",
   "metadata": {},
   "source": [
    "# Transpose and swap axis"
   ]
  },
  {
   "cell_type": "code",
   "execution_count": 25,
   "metadata": {},
   "outputs": [
    {
     "name": "stdout",
     "output_type": "stream",
     "text": [
      "[[ 1  6 11 16 21]\n",
      " [ 2  7 12 17 22]\n",
      " [ 3  8 13 18 23]\n",
      " [ 4  9 14 19 24]\n",
      " [ 5 10 15 20 25]]\n",
      "[[ 1  6 11 16 21]\n",
      " [ 2  7 12 17 22]\n",
      " [ 3  8 13 18 23]\n",
      " [ 4  9 14 19 24]\n",
      " [ 5 10 15 20 25]]\n",
      "[[ 1  6 11 16 21]\n",
      " [ 2  7 12 17 22]\n",
      " [ 3  8 13 18 23]\n",
      " [ 4  9 14 19 24]\n",
      " [ 5 10 15 20 25]]\n",
      "[[ 1  2  3  4  5]\n",
      " [ 6  7  8  9 10]\n",
      " [11 12 13 14 15]\n",
      " [16 17 18 19 20]\n",
      " [21 22 23 24 25]]\n"
     ]
    }
   ],
   "source": [
    "print(np.transpose(x))\n",
    "print(x.swapaxes(0,1))\n",
    "print(x.T)\n",
    "print(x)"
   ]
  },
  {
   "cell_type": "markdown",
   "metadata": {},
   "source": [
    "# Boolean indexing"
   ]
  },
  {
   "cell_type": "code",
   "execution_count": 26,
   "metadata": {},
   "outputs": [
    {
     "name": "stdout",
     "output_type": "stream",
     "text": [
      "[False False  True  True]\n",
      "[3 4]\n"
     ]
    }
   ],
   "source": [
    "y=np.array([1,2,3,4])\n",
    "print(y>2)\n",
    "print(y[y>2])"
   ]
  },
  {
   "cell_type": "markdown",
   "metadata": {},
   "source": [
    "# fancy indexing\n",
    "fancy indexing used when we want to use array as an index.The resulting array has the same dimension as that of the index.<br>\n",
    "let x=np.arange(20)\n",
    "\n",
    "ind=np.array([3,4,7])\n",
    "\n",
    "x[ind]=[x(3),x[4],x[7]]\n",
    "\n",
    "when we index array with list it works like matlab but when we idex it with array it retuns the same size like the idexing array."
   ]
  },
  {
   "cell_type": "code",
   "execution_count": 37,
   "metadata": {},
   "outputs": [
    {
     "name": "stdout",
     "output_type": "stream",
     "text": [
      "[[2 1 0]\n",
      " [1 3 2]]\n",
      "[3 4 7]\n",
      "[[ 0  1  2  3  4]\n",
      " [ 5  6  7  8  9]\n",
      " [10 11 12 13 14]\n",
      " [15 16 17 18 19]]\n",
      "[ 6 12 18]\n"
     ]
    }
   ],
   "source": [
    "x=np.arange(20)\n",
    "ind=np.array([[2,1,0],[1,3,2]])\n",
    "print(x[ind])\n",
    "\n",
    "ind=np.array([3,4,7])\n",
    "print(x[ind])\n",
    "ind=([1,2,3],[1,2,3])\n",
    "print(x.reshape((4,5)))\n",
    "print(x.reshape((4,5))[ind])"
   ]
  },
  {
   "cell_type": "markdown",
   "metadata": {},
   "source": [
    "# Universal functions"
   ]
  },
  {
   "cell_type": "markdown",
   "metadata": {},
   "source": [
    "### Arithmetic functions"
   ]
  },
  {
   "cell_type": "code",
   "execution_count": 38,
   "metadata": {},
   "outputs": [
    {
     "name": "stdout",
     "output_type": "stream",
     "text": [
      "[[11 13 15]\n",
      " [17 19 21]\n",
      " [23 25 27]]\n",
      "[[11 13 15]\n",
      " [17 19 21]\n",
      " [23 25 27]]\n",
      "\n",
      "\n",
      "[[-9 -9 -9]\n",
      " [-9 -9 -9]\n",
      " [-9 -9 -9]]\n",
      "[[-9 -9 -9]\n",
      " [-9 -9 -9]\n",
      " [-9 -9 -9]]\n",
      "[[0 0 0]\n",
      " [0 0 0]\n",
      " [0 0 0]]\n",
      "[[0 0 0]\n",
      " [0 0 0]\n",
      " [0 0 0]]\n",
      "[[          1        2048      531441]\n",
      " [   67108864  1808548329  2033549312]\n",
      " [-1526366847           0 -1953380655]]\n",
      "[[          1        2048      531441]\n",
      " [   67108864  1808548329  2033549312]\n",
      " [-1526366847           0 -1953380655]]\n"
     ]
    }
   ],
   "source": [
    "x=np.arange(1,10).reshape(3,3)\n",
    "y=np.arange(10,19).reshape(3,3)\n",
    "print(np.add(x,y),x+y,sep=\"\\n\")\n",
    "print(\"\\n\",np.subtract(x,y),x-y,sep='\\n')\n",
    "print(np.floor_divide(x,y),x//y ,sep=\"\\n\")\n",
    "print(np.power(x,y),x**y,sep=\"\\n\")"
   ]
  },
  {
   "cell_type": "markdown",
   "metadata": {},
   "source": [
    "### rounding and sign methods"
   ]
  },
  {
   "cell_type": "code",
   "execution_count": 39,
   "metadata": {},
   "outputs": [
    {
     "name": "stdout",
     "output_type": "stream",
     "text": [
      "[[1 1 1]\n",
      " [1 1 1]\n",
      " [1 1 1]]\n",
      "[[1. 1. 0.]\n",
      " [0. 0. 1.]]\n",
      "[[1. 1. 1.]\n",
      " [1. 1. 1.]]\n"
     ]
    }
   ],
   "source": [
    "print(np.sign(x))\n",
    "print(np.rint(np.random.rand(2,3)))\n",
    "print(np.ceil(np.random.rand(2,3)))"
   ]
  },
  {
   "cell_type": "markdown",
   "metadata": {},
   "source": [
    "### Expressing conditional logic\n",
    "\n",
    "where method return an array depending on the condition if true place an element at the given point from array 1 else place an element from array2.The size of the resulting array and the size the condition are the same."
   ]
  },
  {
   "cell_type": "code",
   "execution_count": 40,
   "metadata": {},
   "outputs": [
    {
     "name": "stdout",
     "output_type": "stream",
     "text": [
      "[[1 2 3]\n",
      " [4 5 6]\n",
      " [7 8 9]]\n",
      "[[10 11 12]\n",
      " [13 14 15]\n",
      " [16  2  2]]\n"
     ]
    }
   ],
   "source": [
    "print(x)\n",
    "print(np.where(x>7,2,y))"
   ]
  },
  {
   "cell_type": "markdown",
   "metadata": {},
   "source": [
    "### Mathematical and statistical methods"
   ]
  },
  {
   "cell_type": "code",
   "execution_count": 55,
   "metadata": {},
   "outputs": [
    {
     "name": "stdout",
     "output_type": "stream",
     "text": [
      "[[ 0.18371416 -0.80009026 -0.6895769   0.48066235]\n",
      " [-0.73248374  0.33327635  0.12033958  0.05522773]\n",
      " [-0.54203842  1.13991475  0.2873645   1.57001958]\n",
      " [-1.91157806 -0.86078664  0.8804048  -1.68319608]\n",
      " [ 0.94596876  0.58718897 -2.80835785 -0.44819043]]\n",
      "[-0.82529065 -0.22364008  2.45526041 -3.57515598 -1.72339055]\n",
      "[-2.0564173   0.39950316 -2.20982589 -0.02547684]\n"
     ]
    }
   ],
   "source": [
    "y=np.random.randn(5,4)\n",
    "print(y)\n",
    "print(np.sum(y,axis=1))\n",
    "print(y.sum(axis=0))"
   ]
  },
  {
   "cell_type": "markdown",
   "metadata": {},
   "source": [
    "### Methods for Boolean arrays"
   ]
  },
  {
   "cell_type": "code",
   "execution_count": 41,
   "metadata": {},
   "outputs": [
    {
     "name": "stdout",
     "output_type": "stream",
     "text": [
      "False\n",
      "True\n"
     ]
    }
   ],
   "source": [
    "y=np.random.randn(20)\n",
    "print((y>0).all())\n",
    "print((y>-0.3).any())"
   ]
  },
  {
   "cell_type": "markdown",
   "metadata": {},
   "source": [
    "### sorting\n",
    "sort method returns none\n",
    "i.e it changes the array"
   ]
  },
  {
   "cell_type": "code",
   "execution_count": 75,
   "metadata": {
    "scrolled": true
   },
   "outputs": [
    {
     "name": "stdout",
     "output_type": "stream",
     "text": [
      "[[0 6 1 0]\n",
      " [6 7 8 0]\n",
      " [1 5 0 7]\n",
      " [6 7 8 6]\n",
      " [3 0 5 7]]\n",
      "[[0 0 0 0]\n",
      " [1 5 1 0]\n",
      " [3 6 5 6]\n",
      " [6 7 8 7]\n",
      " [6 7 8 7]]\n"
     ]
    }
   ],
   "source": [
    "x=np.random.randint(0,10,(5,4))\n",
    "print(x)\n",
    "x.sort(axis=0)\n",
    "print(x)"
   ]
  },
  {
   "cell_type": "code",
   "execution_count": null,
   "metadata": {},
   "outputs": [],
   "source": [
    "print(np.delete(x,[1],axis=0))"
   ]
  },
  {
   "cell_type": "code",
   "execution_count": 85,
   "metadata": {},
   "outputs": [
    {
     "name": "stdout",
     "output_type": "stream",
     "text": [
      "[[0 0 0]\n",
      " [0 0 0]\n",
      " [1 2 3]]\n"
     ]
    }
   ],
   "source": [
    "y=np.diag([1,2,3])\n",
    "y.sort(0)\n",
    "print(y)"
   ]
  },
  {
   "cell_type": "code",
   "execution_count": 86,
   "metadata": {},
   "outputs": [
    {
     "name": "stdout",
     "output_type": "stream",
     "text": [
      "[[1 2 3 4]\n",
      " [1 2 3 4]\n",
      " [1 2 3 4]\n",
      " [1 2 3 4]]\n",
      "34\n"
     ]
    }
   ],
   "source": [
    "z=np.arange(1,5)\n",
    "y=np.zeros((4,4),dtype=np.int16)\n",
    "\n",
    "print(z+y)\n",
    "k=y[0,0]\n",
    "k=k+34\n",
    "print(k)"
   ]
  },
  {
   "cell_type": "code",
   "execution_count": 87,
   "metadata": {},
   "outputs": [],
   "source": [
    "x=np.random.randint(0,20,[3,4])"
   ]
  },
  {
   "cell_type": "code",
   "execution_count": 103,
   "metadata": {
    "scrolled": true
   },
   "outputs": [
    {
     "name": "stdout",
     "output_type": "stream",
     "text": [
      "(4,)\n",
      "[[  9.33333333 -11.66666667   6.66666667   2.66666667]\n",
      " [ -5.66666667   5.33333333  -2.33333333  -2.33333333]\n",
      " [ -3.66666667   6.33333333  -4.33333333  -0.33333333]]\n"
     ]
    }
   ],
   "source": [
    "print(x.mean(0).shape)\n",
    "print(x-x.mean(0))"
   ]
  },
  {
   "cell_type": "code",
   "execution_count": 92,
   "metadata": {},
   "outputs": [
    {
     "name": "stdout",
     "output_type": "stream",
     "text": [
      "[1 0 2]\n",
      "[18 17  3]\n"
     ]
    }
   ],
   "source": [
    "ind=np.random.permutation(3)\n",
    "print(ind)\n",
    "print(x[ind,ind])"
   ]
  },
  {
   "cell_type": "markdown",
   "metadata": {},
   "source": [
    "# Broadcasting rules"
   ]
  },
  {
   "cell_type": "code",
   "execution_count": 42,
   "metadata": {},
   "outputs": [
    {
     "name": "stdout",
     "output_type": "stream",
     "text": [
      "[[10  2 22  2]\n",
      " [11 20  1 16]\n",
      " [20  4 24 13]\n",
      " [19  0 29 16]]\n",
      "[[[10]\n",
      "  [ 2]\n",
      "  [22]\n",
      "  [ 2]]\n",
      "\n",
      " [[11]\n",
      "  [20]\n",
      "  [ 1]\n",
      "  [16]]\n",
      "\n",
      " [[20]\n",
      "  [ 4]\n",
      "  [24]\n",
      "  [13]]\n",
      "\n",
      " [[19]\n",
      "  [ 0]\n",
      "  [29]\n",
      "  [16]]]\n",
      "(10,)\n",
      "[[0]\n",
      " [1]\n",
      " [2]\n",
      " [3]\n",
      " [4]\n",
      " [5]\n",
      " [6]\n",
      " [7]\n",
      " [8]\n",
      " [9]]\n"
     ]
    }
   ],
   "source": [
    "x=np.random.randint(0,30,(4,4))\n",
    "print(x)\n",
    "print(x[:,:,np.newaxis])\n",
    "z=np.arange(10)\n",
    "print(z.shape)\n",
    "print(z[:,np.newaxis])\n"
   ]
  },
  {
   "cell_type": "code",
   "execution_count": 43,
   "metadata": {},
   "outputs": [
    {
     "name": "stdout",
     "output_type": "stream",
     "text": [
      "[[1 2 3 4]\n",
      " [1 2 3 4]\n",
      " [1 2 3 4]\n",
      " [1 2 3 4]]\n"
     ]
    }
   ],
   "source": [
    "y=np.arange(1,5)\n",
    "x[:]=y[:]\n",
    "print(x)"
   ]
  },
  {
   "cell_type": "code",
   "execution_count": null,
   "metadata": {},
   "outputs": [],
   "source": []
  }
 ],
 "metadata": {
  "kernelspec": {
   "display_name": "Python 3",
   "language": "python",
   "name": "python3"
  },
  "language_info": {
   "codemirror_mode": {
    "name": "ipython",
    "version": 3
   },
   "file_extension": ".py",
   "mimetype": "text/x-python",
   "name": "python",
   "nbconvert_exporter": "python",
   "pygments_lexer": "ipython3",
   "version": "3.7.6"
  }
 },
 "nbformat": 4,
 "nbformat_minor": 2
}
